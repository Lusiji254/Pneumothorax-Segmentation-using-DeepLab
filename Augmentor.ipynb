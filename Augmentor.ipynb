{
  "nbformat": 4,
  "nbformat_minor": 0,
  "metadata": {
    "colab": {
      "provenance": [],
      "include_colab_link": true
    },
    "kernelspec": {
      "name": "python3",
      "display_name": "Python 3"
    },
    "language_info": {
      "name": "python"
    }
  },
  "cells": [
    {
      "cell_type": "markdown",
      "metadata": {
        "id": "view-in-github",
        "colab_type": "text"
      },
      "source": [
        "<a href=\"https://colab.research.google.com/github/Lusiji254/Pneumothorax-Segmentation-using-DeepLab/blob/main/Augmentor.ipynb\" target=\"_parent\"><img src=\"https://colab.research.google.com/assets/colab-badge.svg\" alt=\"Open In Colab\"/></a>"
      ]
    },
    {
      "cell_type": "code",
      "execution_count": null,
      "metadata": {
        "id": "It1PKlwjNYzr"
      },
      "outputs": [],
      "source": [
        "from google.colab import drive\n",
        "drive.mount('/content/gdrive')\n",
        "\n",
        "# this creates a symbolic link so that now the path /content/gdrive/My\\ Drive/ is equal to /mydrive\n",
        "!ln -s /content/gdrive/My\\ Drive/ /mydrive\n",
        "!ls /mydrive"
      ]
    },
    {
      "cell_type": "code",
      "source": [
        "import os\n",
        "import cv2\n",
        "from tqdm import tqdm\n",
        "from glob import glob\n",
        "from albumentations import RandomBrightnessContrast, OpticalDistortion, HorizontalFlip\n",
        "\n",
        "\n",
        "def create_dir(path):\n",
        "    \"\"\" Create a directory. \"\"\"\n",
        "    if not os.path.exists(path):\n",
        "        os.makedirs(path)\n",
        "\n",
        "def load_data(path):\n",
        "    images = sorted(glob(os.path.join(path, \"downsampled_train_images\", \"*.png\")))\n",
        "    masks= sorted(glob(os.path.join(path, \"downsampled_train_masks\", \"*.png\")))\n",
        "    return images, masks\n",
        "\n",
        "def augment_data(images, masks, save_path, augment=True):\n",
        "    H = 256\n",
        "    W = 256\n",
        "\n",
        "    for x, y in tqdm(zip(images, masks), total=len(images)):\n",
        "        image_name = x.split(\"/\")[-1]\n",
        "        \"\"\" Extracting the name and extension of the image and the mask. \"\"\"\n",
        "        \n",
        "\n",
        "        mask_name = y.split(\"/\")[-1]\n",
        "        \n",
        "\n",
        "        \"\"\" Reading image and mask. \"\"\"\n",
        "        x = cv2.imread(x, cv2.IMREAD_COLOR)\n",
        "        y = cv2.imread(y, cv2.IMREAD_COLOR)\n",
        "\n",
        "        \"\"\" Augmentation \"\"\"\n",
        "        if augment == True:\n",
        "            aug = RandomBrightnessContrast(p=0.3)\n",
        "            augmented = aug(image=x, mask=y)\n",
        "            x1 = augmented[\"image\"]\n",
        "            y1 = augmented[\"mask\"]\n",
        "\n",
        "            aug = HorizontalFlip()\n",
        "            augmented = aug(image=x, mask=y)\n",
        "            x2 = augmented['image']\n",
        "            y2 = augmented['mask']\n",
        "\n",
        "            aug = OpticalDistortion(distort_limit=2, shift_limit=0.5, p=0.3)\n",
        "            augmented = aug(image=x, mask=y)\n",
        "            x3 = augmented['image']\n",
        "            y3 = augmented['mask']\n",
        "\n",
        "            save_images = [x, x1, x2, x3]\n",
        "            save_masks =  [y, y1, y2, y3]\n",
        "\n",
        "        else:\n",
        "            save_images = [x]\n",
        "            save_masks = [y]\n",
        "\n",
        "        \"\"\" Saving the image and mask. \"\"\"\n",
        "        idx = 0\n",
        "        for i, m in zip(save_images, save_masks):\n",
        "            i = cv2.resize(i, (W, H))\n",
        "            m = cv2.resize(m, (W, H))\n",
        "\n",
        "            if len(images) == 1:\n",
        "                tmp_img_name = f\"{image_name}\"\n",
        "                tmp_mask_name = f\"{mask_name}\"\n",
        "            else:\n",
        "                tmp_img_name = f\"{idx}_{image_name}\"\n",
        "                tmp_mask_name = f\"{idx}_{mask_name}\"\n",
        "\n",
        "            image_path = os.path.join(save_path, \"images\", tmp_img_name)\n",
        "            mask_path = os.path.join(save_path, \"masks\", tmp_mask_name)\n",
        "\n",
        "            cv2.imwrite(image_path, i)\n",
        "            cv2.imwrite(mask_path, m)\n",
        "\n",
        "            idx += 1\n",
        "\n",
        "if __name__ == \"__main__\":\n",
        "    \"\"\" Loading original images and masks. \"\"\"\n",
        "    path = \"/content/gdrive/MyDrive/Pneumothorax/\"\n",
        "    images, masks = load_data(path)\n",
        "    print(f\"Original Images: {len(images)} - Original Masks: {len(masks)}\")\n",
        "\n",
        "    \"\"\" Creating folders. \"\"\"\n",
        "    create_dir(\"/content/gdrive/MyDrive/Pneumothorax/classify_aug_data/images\")\n",
        "    create_dir(\"/content/gdrive/MyDrive/Pneumothorax/classify_aug_data/masks\")\n",
        "\n",
        "    \"\"\" Applying data augmentation. \"\"\"\n",
        "    augment_data(images, masks, \"/content/gdrive/MyDrive/Pneumothorax/classify_aug_data/\", augment=True)\n",
        "\n",
        "    \"\"\" Loading augmented images and masks. \"\"\"\n",
        "    images, masks = load_data(\"/content/gdrive/MyDrive/Pneumothorax/classify_aug_data/\")\n",
        "    print(f\"Augmented Images: {len(images)} - Augmented Masks: {len(masks)}\")\n",
        "\n",
        " "
      ],
      "metadata": {
        "colab": {
          "base_uri": "https://localhost:8080/"
        },
        "id": "gbzokDp0Nbnh",
        "outputId": "24440034-cc32-44fd-fa97-fcd4045864de"
      },
      "execution_count": null,
      "outputs": [
        {
          "output_type": "stream",
          "name": "stdout",
          "text": [
            "Original Images: 4758 - Original Masks: 4758\n"
          ]
        },
        {
          "output_type": "stream",
          "name": "stderr",
          "text": [
            "100%|██████████| 4758/4758 [34:06<00:00,  2.32it/s]"
          ]
        },
        {
          "output_type": "stream",
          "name": "stdout",
          "text": [
            "Augmented Images: 0 - Augmented Masks: 0\n"
          ]
        },
        {
          "output_type": "stream",
          "name": "stderr",
          "text": [
            "\n"
          ]
        }
      ]
    },
    {
      "cell_type": "code",
      "source": [
        "def load_data(path):\n",
        "    images = sorted(glob(os.path.join(path, \"images\", \"*.png\")))\n",
        "    masks= sorted(glob(os.path.join(path, \"masks\", \"*.png\")))\n",
        "    return images, masks\n",
        "\n",
        "if __name__ == \"__main__\":   \n",
        "    \"\"\" Loading augmented images and masks. \"\"\"\n",
        "    images, masks = load_data(\"/content/gdrive/MyDrive/Pneumothorax/classify_aug_data/\")\n",
        "    print(f\"Augmented Images: {len(images)} - Augmented Masks: {len(masks)}\")"
      ],
      "metadata": {
        "colab": {
          "base_uri": "https://localhost:8080/"
        },
        "id": "03OHhw7dkqOP",
        "outputId": "f878828f-73a0-4ae7-92a5-2f3c9e82173a"
      },
      "execution_count": null,
      "outputs": [
        {
          "output_type": "stream",
          "name": "stdout",
          "text": [
            "Augmented Images: 19032 - Augmented Masks: 19032\n"
          ]
        }
      ]
    }
  ]
}