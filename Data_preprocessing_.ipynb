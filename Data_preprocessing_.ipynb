{
  "nbformat": 4,
  "nbformat_minor": 0,
  "metadata": {
    "colab": {
      "provenance": [],
      "include_colab_link": true
    },
    "kernelspec": {
      "name": "python3",
      "display_name": "Python 3"
    },
    "language_info": {
      "name": "python"
    },
    "accelerator": "GPU",
    "gpuClass": "standard"
  },
  "cells": [
    {
      "cell_type": "markdown",
      "metadata": {
        "id": "view-in-github",
        "colab_type": "text"
      },
      "source": [
        "<a href=\"https://colab.research.google.com/github/Lusiji254/Pneumothorax-Segmentation-using-DeepLab/blob/main/Data_preprocessing_.ipynb\" target=\"_parent\"><img src=\"https://colab.research.google.com/assets/colab-badge.svg\" alt=\"Open In Colab\"/></a>"
      ]
    },
    {
      "cell_type": "markdown",
      "metadata": {
        "id": "sC0vUMsi5IuM"
      },
      "source": [
        "##Extracting the dataset\n",
        "We load the data first from my google drive then we unzip the folder to extract the dataset.\n"
      ]
    },
    {
      "cell_type": "code",
      "execution_count": null,
      "metadata": {
        "id": "xEIXKFkj3MLo"
      },
      "outputs": [],
      "source": [
        "from google.colab import drive\n",
        "drive.mount('/content/gdrive')\n",
        "\n",
        "# this creates a symbolic link so that now the path /content/gdrive/My\\ Drive/ is equal to /mydrive\n",
        "!ln -s /content/gdrive/My\\ Drive/ /mydrive\n",
        "!ls /mydrive"
      ]
    },
    {
      "cell_type": "code",
      "execution_count": null,
      "metadata": {
        "id": "zi-qEjTf48i9"
      },
      "outputs": [],
      "source": [
        "%cd /content/gdrive/MyDrive/Pneumothorax/\n",
        "!unzip /content/gdrive/MyDrive/Pneumothorax/png_masks.zip "
      ]
    },
    {
      "cell_type": "code",
      "execution_count": null,
      "metadata": {
        "id": "L9dWZMPNQLEc"
      },
      "outputs": [],
      "source": [
        "!7za x  /content/gdrive/MyDrive/Pneumothorax/png_images.zip "
      ]
    },
    {
      "cell_type": "markdown",
      "metadata": {
        "id": "91KnxqrnyUzZ"
      },
      "source": [
        "##Visualize the Dataset"
      ]
    },
    {
      "cell_type": "code",
      "execution_count": null,
      "metadata": {
        "id": "348OJxZk5ZkX"
      },
      "outputs": [],
      "source": [
        "import torch \n",
        "import cv2\n",
        "\n",
        "import numpy as np \n",
        "import pandas as pd\n",
        "import matplotlib.pyplot as plt \n",
        "\n",
        "from tqdm import tqdm\n",
        "\n"
      ]
    },
    {
      "cell_type": "code",
      "execution_count": null,
      "metadata": {
        "id": "RxFbhXci61lw"
      },
      "outputs": [],
      "source": [
        "CSV_FILE = '/content/gdrive/MyDrive/Pneumothorax/stage_1_train_images.csv'\n"
      ]
    },
    {
      "cell_type": "code",
      "execution_count": null,
      "metadata": {
        "colab": {
          "base_uri": "https://localhost:8080/",
          "height": 206
        },
        "id": "_z6D40Gf5J3M",
        "outputId": "4e0bfb7d-89db-47e4-818c-9d878477bc45"
      },
      "outputs": [
        {
          "output_type": "execute_result",
          "data": {
            "text/plain": [
              "     new_filename                                            ImageId  \\\n",
              "0  0_train_0_.png  1.2.276.0.7230010.3.1.4.8323329.5597.151787518...   \n",
              "1  1_train_0_.png  1.2.276.0.7230010.3.1.4.8323329.12515.15178752...   \n",
              "2  2_train_1_.png  1.2.276.0.7230010.3.1.4.8323329.4904.151787518...   \n",
              "3  3_train_1_.png  1.2.276.0.7230010.3.1.4.8323329.32579.15178751...   \n",
              "4  4_train_1_.png  1.2.276.0.7230010.3.1.4.8323329.1314.151787516...   \n",
              "\n",
              "   has_pneumo  \n",
              "0           0  \n",
              "1           0  \n",
              "2           1  \n",
              "3           1  \n",
              "4           1  "
            ],
            "text/html": [
              "\n",
              "  <div id=\"df-374fdbec-2b20-49cf-bd00-f2c95e4f864b\">\n",
              "    <div class=\"colab-df-container\">\n",
              "      <div>\n",
              "<style scoped>\n",
              "    .dataframe tbody tr th:only-of-type {\n",
              "        vertical-align: middle;\n",
              "    }\n",
              "\n",
              "    .dataframe tbody tr th {\n",
              "        vertical-align: top;\n",
              "    }\n",
              "\n",
              "    .dataframe thead th {\n",
              "        text-align: right;\n",
              "    }\n",
              "</style>\n",
              "<table border=\"1\" class=\"dataframe\">\n",
              "  <thead>\n",
              "    <tr style=\"text-align: right;\">\n",
              "      <th></th>\n",
              "      <th>new_filename</th>\n",
              "      <th>ImageId</th>\n",
              "      <th>has_pneumo</th>\n",
              "    </tr>\n",
              "  </thead>\n",
              "  <tbody>\n",
              "    <tr>\n",
              "      <th>0</th>\n",
              "      <td>0_train_0_.png</td>\n",
              "      <td>1.2.276.0.7230010.3.1.4.8323329.5597.151787518...</td>\n",
              "      <td>0</td>\n",
              "    </tr>\n",
              "    <tr>\n",
              "      <th>1</th>\n",
              "      <td>1_train_0_.png</td>\n",
              "      <td>1.2.276.0.7230010.3.1.4.8323329.12515.15178752...</td>\n",
              "      <td>0</td>\n",
              "    </tr>\n",
              "    <tr>\n",
              "      <th>2</th>\n",
              "      <td>2_train_1_.png</td>\n",
              "      <td>1.2.276.0.7230010.3.1.4.8323329.4904.151787518...</td>\n",
              "      <td>1</td>\n",
              "    </tr>\n",
              "    <tr>\n",
              "      <th>3</th>\n",
              "      <td>3_train_1_.png</td>\n",
              "      <td>1.2.276.0.7230010.3.1.4.8323329.32579.15178751...</td>\n",
              "      <td>1</td>\n",
              "    </tr>\n",
              "    <tr>\n",
              "      <th>4</th>\n",
              "      <td>4_train_1_.png</td>\n",
              "      <td>1.2.276.0.7230010.3.1.4.8323329.1314.151787516...</td>\n",
              "      <td>1</td>\n",
              "    </tr>\n",
              "  </tbody>\n",
              "</table>\n",
              "</div>\n",
              "      <button class=\"colab-df-convert\" onclick=\"convertToInteractive('df-374fdbec-2b20-49cf-bd00-f2c95e4f864b')\"\n",
              "              title=\"Convert this dataframe to an interactive table.\"\n",
              "              style=\"display:none;\">\n",
              "        \n",
              "  <svg xmlns=\"http://www.w3.org/2000/svg\" height=\"24px\"viewBox=\"0 0 24 24\"\n",
              "       width=\"24px\">\n",
              "    <path d=\"M0 0h24v24H0V0z\" fill=\"none\"/>\n",
              "    <path d=\"M18.56 5.44l.94 2.06.94-2.06 2.06-.94-2.06-.94-.94-2.06-.94 2.06-2.06.94zm-11 1L8.5 8.5l.94-2.06 2.06-.94-2.06-.94L8.5 2.5l-.94 2.06-2.06.94zm10 10l.94 2.06.94-2.06 2.06-.94-2.06-.94-.94-2.06-.94 2.06-2.06.94z\"/><path d=\"M17.41 7.96l-1.37-1.37c-.4-.4-.92-.59-1.43-.59-.52 0-1.04.2-1.43.59L10.3 9.45l-7.72 7.72c-.78.78-.78 2.05 0 2.83L4 21.41c.39.39.9.59 1.41.59.51 0 1.02-.2 1.41-.59l7.78-7.78 2.81-2.81c.8-.78.8-2.07 0-2.86zM5.41 20L4 18.59l7.72-7.72 1.47 1.35L5.41 20z\"/>\n",
              "  </svg>\n",
              "      </button>\n",
              "      \n",
              "  <style>\n",
              "    .colab-df-container {\n",
              "      display:flex;\n",
              "      flex-wrap:wrap;\n",
              "      gap: 12px;\n",
              "    }\n",
              "\n",
              "    .colab-df-convert {\n",
              "      background-color: #E8F0FE;\n",
              "      border: none;\n",
              "      border-radius: 50%;\n",
              "      cursor: pointer;\n",
              "      display: none;\n",
              "      fill: #1967D2;\n",
              "      height: 32px;\n",
              "      padding: 0 0 0 0;\n",
              "      width: 32px;\n",
              "    }\n",
              "\n",
              "    .colab-df-convert:hover {\n",
              "      background-color: #E2EBFA;\n",
              "      box-shadow: 0px 1px 2px rgba(60, 64, 67, 0.3), 0px 1px 3px 1px rgba(60, 64, 67, 0.15);\n",
              "      fill: #174EA6;\n",
              "    }\n",
              "\n",
              "    [theme=dark] .colab-df-convert {\n",
              "      background-color: #3B4455;\n",
              "      fill: #D2E3FC;\n",
              "    }\n",
              "\n",
              "    [theme=dark] .colab-df-convert:hover {\n",
              "      background-color: #434B5C;\n",
              "      box-shadow: 0px 1px 3px 1px rgba(0, 0, 0, 0.15);\n",
              "      filter: drop-shadow(0px 1px 2px rgba(0, 0, 0, 0.3));\n",
              "      fill: #FFFFFF;\n",
              "    }\n",
              "  </style>\n",
              "\n",
              "      <script>\n",
              "        const buttonEl =\n",
              "          document.querySelector('#df-374fdbec-2b20-49cf-bd00-f2c95e4f864b button.colab-df-convert');\n",
              "        buttonEl.style.display =\n",
              "          google.colab.kernel.accessAllowed ? 'block' : 'none';\n",
              "\n",
              "        async function convertToInteractive(key) {\n",
              "          const element = document.querySelector('#df-374fdbec-2b20-49cf-bd00-f2c95e4f864b');\n",
              "          const dataTable =\n",
              "            await google.colab.kernel.invokeFunction('convertToInteractive',\n",
              "                                                     [key], {});\n",
              "          if (!dataTable) return;\n",
              "\n",
              "          const docLinkHtml = 'Like what you see? Visit the ' +\n",
              "            '<a target=\"_blank\" href=https://colab.research.google.com/notebooks/data_table.ipynb>data table notebook</a>'\n",
              "            + ' to learn more about interactive tables.';\n",
              "          element.innerHTML = '';\n",
              "          dataTable['output_type'] = 'display_data';\n",
              "          await google.colab.output.renderOutput(dataTable, element);\n",
              "          const docLink = document.createElement('div');\n",
              "          docLink.innerHTML = docLinkHtml;\n",
              "          element.appendChild(docLink);\n",
              "        }\n",
              "      </script>\n",
              "    </div>\n",
              "  </div>\n",
              "  "
            ]
          },
          "metadata": {},
          "execution_count": 7
        }
      ],
      "source": [
        "df = pd.read_csv(CSV_FILE)\n",
        "df.head()"
      ]
    },
    {
      "cell_type": "code",
      "execution_count": null,
      "metadata": {
        "id": "46fooafj8IQ9"
      },
      "outputs": [],
      "source": [
        "row = df.iloc[0]\n",
        "image = row.new_filename\n",
        "image_path = f'/content/gdrive/MyDrive/Pneumothorax/png_images/{image}'\n",
        "\n",
        "mask_path = f'/content/gdrive/MyDrive/Pneumothorax/png_masks/{image}'\n",
        "\n",
        "image = cv2.imread(image_path)\n",
        "image = cv2.cvtColor(image, cv2.COLOR_BGR2RGB)\n",
        "\n",
        "mask = cv2.imread(mask_path, cv2.IMREAD_GRAYSCALE) /255.0 #so that the mask outputs as black and white"
      ]
    },
    {
      "cell_type": "code",
      "execution_count": null,
      "metadata": {
        "colab": {
          "base_uri": "https://localhost:8080/",
          "height": 335
        },
        "id": "LmlCMteKBMIX",
        "outputId": "f0fcab89-fecc-4cd3-a35a-9836e2811c12"
      },
      "outputs": [
        {
          "data": {
            "text/plain": [
              "<matplotlib.image.AxesImage at 0x7fae96b63910>"
            ]
          },
          "execution_count": 8,
          "metadata": {},
          "output_type": "execute_result"
        },
        {
          "data": {
            "image/png": "[encoded data removed]",
            "text/plain": [
              "<Figure size 720x360 with 2 Axes>"
            ]
          },
          "metadata": {},
          "output_type": "display_data"
        }
      ],
      "source": [
        "f, (ax1, ax2) = plt.subplots(1, 2, figsize=(10,5))\n",
        "        \n",
        "ax1.set_title('IMAGE')\n",
        "ax1.imshow(image)\n",
        "\n",
        "ax2.set_title('MASK')\n",
        "ax2.imshow(mask,cmap = 'gray')"
      ]
    },
    {
      "cell_type": "markdown",
      "source": [
        "##Dividing the dataset into train and test folders based on csv files."
      ],
      "metadata": {
        "id": "TexPZj6R3e1r"
      }
    },
    {
      "cell_type": "code",
      "source": [
        "from __future__ import print_function\n",
        "import pandas as pd\n",
        "import shutil\n",
        "import os\n",
        "import sys"
      ],
      "metadata": {
        "id": "B2qxyN-A35XC"
      },
      "execution_count": null,
      "outputs": []
    },
    {
      "cell_type": "code",
      "source": [
        "labels = pd.read_csv(r'/content/gdrive/MyDrive/Pneumothorax/stage_1_train_images.csv')\n",
        "labels.head()"
      ],
      "metadata": {
        "colab": {
          "base_uri": "https://localhost:8080/",
          "height": 206
        },
        "outputId": "d7c7f01f-09a6-4aa2-900b-92fd8f87c49c",
        "id": "hMulXnq735XD"
      },
      "execution_count": null,
      "outputs": [
        {
          "output_type": "execute_result",
          "data": {
            "text/plain": [
              "     new_filename                                            ImageId  \\\n",
              "0  0_train_0_.png  1.2.276.0.7230010.3.1.4.8323329.5597.151787518...   \n",
              "1  1_train_0_.png  1.2.276.0.7230010.3.1.4.8323329.12515.15178752...   \n",
              "2  2_train_1_.png  1.2.276.0.7230010.3.1.4.8323329.4904.151787518...   \n",
              "3  3_train_1_.png  1.2.276.0.7230010.3.1.4.8323329.32579.15178751...   \n",
              "4  4_train_1_.png  1.2.276.0.7230010.3.1.4.8323329.1314.151787516...   \n",
              "\n",
              "   has_pneumo  \n",
              "0           0  \n",
              "1           0  \n",
              "2           1  \n",
              "3           1  \n",
              "4           1  "
            ],
            "text/html": [
              "\n",
              "  <div id=\"df-d765d306-2a63-42f8-9692-63e45b62217e\">\n",
              "    <div class=\"colab-df-container\">\n",
              "      <div>\n",
              "<style scoped>\n",
              "    .dataframe tbody tr th:only-of-type {\n",
              "        vertical-align: middle;\n",
              "    }\n",
              "\n",
              "    .dataframe tbody tr th {\n",
              "        vertical-align: top;\n",
              "    }\n",
              "\n",
              "    .dataframe thead th {\n",
              "        text-align: right;\n",
              "    }\n",
              "</style>\n",
              "<table border=\"1\" class=\"dataframe\">\n",
              "  <thead>\n",
              "    <tr style=\"text-align: right;\">\n",
              "      <th></th>\n",
              "      <th>new_filename</th>\n",
              "      <th>ImageId</th>\n",
              "      <th>has_pneumo</th>\n",
              "    </tr>\n",
              "  </thead>\n",
              "  <tbody>\n",
              "    <tr>\n",
              "      <th>0</th>\n",
              "      <td>0_train_0_.png</td>\n",
              "      <td>1.2.276.0.7230010.3.1.4.8323329.5597.151787518...</td>\n",
              "      <td>0</td>\n",
              "    </tr>\n",
              "    <tr>\n",
              "      <th>1</th>\n",
              "      <td>1_train_0_.png</td>\n",
              "      <td>1.2.276.0.7230010.3.1.4.8323329.12515.15178752...</td>\n",
              "      <td>0</td>\n",
              "    </tr>\n",
              "    <tr>\n",
              "      <th>2</th>\n",
              "      <td>2_train_1_.png</td>\n",
              "      <td>1.2.276.0.7230010.3.1.4.8323329.4904.151787518...</td>\n",
              "      <td>1</td>\n",
              "    </tr>\n",
              "    <tr>\n",
              "      <th>3</th>\n",
              "      <td>3_train_1_.png</td>\n",
              "      <td>1.2.276.0.7230010.3.1.4.8323329.32579.15178751...</td>\n",
              "      <td>1</td>\n",
              "    </tr>\n",
              "    <tr>\n",
              "      <th>4</th>\n",
              "      <td>4_train_1_.png</td>\n",
              "      <td>1.2.276.0.7230010.3.1.4.8323329.1314.151787516...</td>\n",
              "      <td>1</td>\n",
              "    </tr>\n",
              "  </tbody>\n",
              "</table>\n",
              "</div>\n",
              "      <button class=\"colab-df-convert\" onclick=\"convertToInteractive('df-d765d306-2a63-42f8-9692-63e45b62217e')\"\n",
              "              title=\"Convert this dataframe to an interactive table.\"\n",
              "              style=\"display:none;\">\n",
              "        \n",
              "  <svg xmlns=\"http://www.w3.org/2000/svg\" height=\"24px\"viewBox=\"0 0 24 24\"\n",
              "       width=\"24px\">\n",
              "    <path d=\"M0 0h24v24H0V0z\" fill=\"none\"/>\n",
              "    <path d=\"M18.56 5.44l.94 2.06.94-2.06 2.06-.94-2.06-.94-.94-2.06-.94 2.06-2.06.94zm-11 1L8.5 8.5l.94-2.06 2.06-.94-2.06-.94L8.5 2.5l-.94 2.06-2.06.94zm10 10l.94 2.06.94-2.06 2.06-.94-2.06-.94-.94-2.06-.94 2.06-2.06.94z\"/><path d=\"M17.41 7.96l-1.37-1.37c-.4-.4-.92-.59-1.43-.59-.52 0-1.04.2-1.43.59L10.3 9.45l-7.72 7.72c-.78.78-.78 2.05 0 2.83L4 21.41c.39.39.9.59 1.41.59.51 0 1.02-.2 1.41-.59l7.78-7.78 2.81-2.81c.8-.78.8-2.07 0-2.86zM5.41 20L4 18.59l7.72-7.72 1.47 1.35L5.41 20z\"/>\n",
              "  </svg>\n",
              "      </button>\n",
              "      \n",
              "  <style>\n",
              "    .colab-df-container {\n",
              "      display:flex;\n",
              "      flex-wrap:wrap;\n",
              "      gap: 12px;\n",
              "    }\n",
              "\n",
              "    .colab-df-convert {\n",
              "      background-color: #E8F0FE;\n",
              "      border: none;\n",
              "      border-radius: 50%;\n",
              "      cursor: pointer;\n",
              "      display: none;\n",
              "      fill: #1967D2;\n",
              "      height: 32px;\n",
              "      padding: 0 0 0 0;\n",
              "      width: 32px;\n",
              "    }\n",
              "\n",
              "    .colab-df-convert:hover {\n",
              "      background-color: #E2EBFA;\n",
              "      box-shadow: 0px 1px 2px rgba(60, 64, 67, 0.3), 0px 1px 3px 1px rgba(60, 64, 67, 0.15);\n",
              "      fill: #174EA6;\n",
              "    }\n",
              "\n",
              "    [theme=dark] .colab-df-convert {\n",
              "      background-color: #3B4455;\n",
              "      fill: #D2E3FC;\n",
              "    }\n",
              "\n",
              "    [theme=dark] .colab-df-convert:hover {\n",
              "      background-color: #434B5C;\n",
              "      box-shadow: 0px 1px 3px 1px rgba(0, 0, 0, 0.15);\n",
              "      filter: drop-shadow(0px 1px 2px rgba(0, 0, 0, 0.3));\n",
              "      fill: #FFFFFF;\n",
              "    }\n",
              "  </style>\n",
              "\n",
              "      <script>\n",
              "        const buttonEl =\n",
              "          document.querySelector('#df-d765d306-2a63-42f8-9692-63e45b62217e button.colab-df-convert');\n",
              "        buttonEl.style.display =\n",
              "          google.colab.kernel.accessAllowed ? 'block' : 'none';\n",
              "\n",
              "        async function convertToInteractive(key) {\n",
              "          const element = document.querySelector('#df-d765d306-2a63-42f8-9692-63e45b62217e');\n",
              "          const dataTable =\n",
              "            await google.colab.kernel.invokeFunction('convertToInteractive',\n",
              "                                                     [key], {});\n",
              "          if (!dataTable) return;\n",
              "\n",
              "          const docLinkHtml = 'Like what you see? Visit the ' +\n",
              "            '<a target=\"_blank\" href=https://colab.research.google.com/notebooks/data_table.ipynb>data table notebook</a>'\n",
              "            + ' to learn more about interactive tables.';\n",
              "          element.innerHTML = '';\n",
              "          dataTable['output_type'] = 'display_data';\n",
              "          await google.colab.output.renderOutput(dataTable, element);\n",
              "          const docLink = document.createElement('div');\n",
              "          docLink.innerHTML = docLinkHtml;\n",
              "          element.appendChild(docLink);\n",
              "        }\n",
              "      </script>\n",
              "    </div>\n",
              "  </div>\n",
              "  "
            ]
          },
          "metadata": {},
          "execution_count": 12
        }
      ]
    },
    {
      "cell_type": "code",
      "source": [
        "labels = pd.read_csv(r'/content/gdrive/MyDrive/Pneumothorax/stage_1_train_images.csv')\n",
        "\n",
        "train_dir =r'/content/gdrive/MyDrive/Pneumothorax/png_images'\n",
        "DR = r\"/content/gdrive/MyDrive/Pneumothorax/train_images\"\n",
        "if not os.path.exists(DR):\n",
        "    os.mkdir(DR)\n",
        "\n",
        "for filename, image_id,class_name in labels.values:\n",
        "    # Create subdirectory with `class_name`\n",
        "    if not os.path.exists(DR + str(class_name)):\n",
        "        os.mkdir(DR + str(class_name))\n",
        "    src_path = train_dir + '/'+ filename \n",
        "    dst_path = DR + str(class_name) + '/' + filename \n",
        "    try:\n",
        "        shutil.copy(src_path, dst_path)\n",
        "        print(\"sucessful\")\n",
        "    except IOError as e:\n",
        "        print('Unable to copy file {} to {}'\n",
        "              .format(src_path, dst_path))\n",
        "    except:\n",
        "        print('When try copy file {} to {}, unexpected error: {}'\n",
        "              .format(src_path, dst_path, sys.exc_info()))"
      ],
      "metadata": {
        "id": "PKvmeZi635XE"
      },
      "execution_count": null,
      "outputs": []
    },
    {
      "cell_type": "code",
      "source": [
        "import os\n",
        "FOLDER_PATH = 'train_masks'\n",
        "ROOT_PATH = '/content/gdrive/MyDrive/Pneumothorax/'\n",
        "print(len(os.listdir(os.path.join(ROOT_PATH, FOLDER_PATH))))"
      ],
      "metadata": {
        "colab": {
          "base_uri": "https://localhost:8080/"
        },
        "outputId": "a4918658-c795-4d54-86c2-7924c710f09d",
        "id": "a2xLKsSL4GGx"
      },
      "execution_count": null,
      "outputs": [
        {
          "output_type": "stream",
          "name": "stdout",
          "text": [
            "10675\n"
          ]
        }
      ]
    },
    {
      "cell_type": "markdown",
      "metadata": {
        "id": "7Q-zAONbvO_e"
      },
      "source": [
        "##Resampling my dataset to deal with the imbalance in classes\n",
        "This is because the number of images with Pneumothorax(2379) are significantly less than those without. In this case I will Downsample to bring the number images without down to be equal to the number of images with.\n"
      ]
    },
    {
      "cell_type": "code",
      "execution_count": null,
      "metadata": {
        "id": "Jb4Fyi-lyGLw"
      },
      "outputs": [],
      "source": [
        "from sklearn.utils import resample\n"
      ]
    },
    {
      "cell_type": "code",
      "execution_count": null,
      "metadata": {
        "id": "IWtHGOwK1Ma6"
      },
      "outputs": [],
      "source": [
        "# Separate majority and minority classes\n",
        "df_majority = df[df.iloc[:,2]==0]\n",
        "df_minority = df[df.iloc[:,2]==1]"
      ]
    },
    {
      "cell_type": "code",
      "source": [
        "data = {\"Without\":len(df_majority), \"With\":len(df_minority)}\n",
        "classes = list(data.keys())\n",
        "number_of_images = list(data.values())\n",
        "color=[\"blue\",\"orange\"]\n",
        "  \n",
        "fig = plt.figure(figsize = (5, 5))\n",
        " \n",
        "# creating the bar plot\n",
        "plt.bar(classes,number_of_images,color=color,width = 0.4)\n",
        "\n",
        " \n",
        "plt.xlabel(\"Pneumothorax\")\n",
        "plt.ylabel(\"No. of images\")\n",
        "plt.title(\"Pneumothorax class distribution\")\n",
        "plt.show()"
      ],
      "metadata": {
        "colab": {
          "base_uri": "https://localhost:8080/",
          "height": 350
        },
        "id": "DonRpdK--D5_",
        "outputId": "f8b16782-efbc-4596-9048-43447e667589"
      },
      "execution_count": null,
      "outputs": [
        {
          "output_type": "display_data",
          "data": {
            "text/plain": [
              "<Figure size 360x360 with 1 Axes>"
            ],
            "image/png": "[encoded data removed]"
          },
          "metadata": {
            "needs_background": "light"
          }
        }
      ]
    },
    {
      "cell_type": "code",
      "source": [
        "df_majority.count()\n"
      ],
      "metadata": {
        "colab": {
          "base_uri": "https://localhost:8080/"
        },
        "id": "6ZT_IzHSPhct",
        "outputId": "ba5077c0-4664-444b-dd7a-1303e3594709"
      },
      "execution_count": null,
      "outputs": [
        {
          "output_type": "execute_result",
          "data": {
            "text/plain": [
              "new_filename    8296\n",
              "ImageId         8296\n",
              "has_pneumo      8296\n",
              "dtype: int64"
            ]
          },
          "metadata": {},
          "execution_count": 10
        }
      ]
    },
    {
      "cell_type": "code",
      "source": [
        "df_minority.count()"
      ],
      "metadata": {
        "colab": {
          "base_uri": "https://localhost:8080/"
        },
        "id": "SdNvBWs9Pmiw",
        "outputId": "10cc9f32-67e3-46f7-c25c-f0b7a004938c"
      },
      "execution_count": null,
      "outputs": [
        {
          "output_type": "execute_result",
          "data": {
            "text/plain": [
              "new_filename    2379\n",
              "ImageId         2379\n",
              "has_pneumo      2379\n",
              "dtype: int64"
            ]
          },
          "metadata": {},
          "execution_count": 11
        }
      ]
    },
    {
      "cell_type": "code",
      "execution_count": null,
      "metadata": {
        "id": "boU3bSMv1RLJ"
      },
      "outputs": [],
      "source": [
        "# Downsample majority class\n",
        "df_majority_downsampled = resample(df_majority, \n",
        "                                 replace=False,    \n",
        "                                 n_samples=2379)"
      ]
    },
    {
      "cell_type": "code",
      "execution_count": null,
      "metadata": {
        "colab": {
          "base_uri": "https://localhost:8080/"
        },
        "id": "9Tzrh2fw1Vpl",
        "outputId": "c66d76c9-cdb0-43f0-ffe0-b54a81dfa077"
      },
      "outputs": [
        {
          "output_type": "execute_result",
          "data": {
            "text/plain": [
              "new_filename    2379\n",
              "ImageId         2379\n",
              "has_pneumo      2379\n",
              "dtype: int64"
            ]
          },
          "metadata": {},
          "execution_count": 13
        }
      ],
      "source": [
        "df_majority_downsampled.count()"
      ]
    },
    {
      "cell_type": "code",
      "execution_count": null,
      "metadata": {
        "colab": {
          "base_uri": "https://localhost:8080/",
          "height": 206
        },
        "id": "UIMMYjk24Rre",
        "outputId": "2221201c-da70-46be-89c4-08e8b7589caf"
      },
      "outputs": [
        {
          "output_type": "execute_result",
          "data": {
            "text/plain": [
              "           new_filename                                            ImageId  \\\n",
              "2697  2697_train_0_.png  1.2.276.0.7230010.3.1.4.8323329.4598.151787518...   \n",
              "3181  3181_train_0_.png  1.2.276.0.7230010.3.1.4.8323329.11872.15178752...   \n",
              "9094  9094_train_0_.png  1.2.276.0.7230010.3.1.4.8323329.11154.15178752...   \n",
              "6640  6640_train_0_.png  1.2.276.0.7230010.3.1.4.8323329.1716.151787516...   \n",
              "4661  4661_train_0_.png  1.2.276.0.7230010.3.1.4.8323329.4920.151787518...   \n",
              "\n",
              "      has_pneumo  \n",
              "2697           0  \n",
              "3181           0  \n",
              "9094           0  \n",
              "6640           0  \n",
              "4661           0  "
            ],
            "text/html": [
              "\n",
              "  <div id=\"df-88abed27-fe1e-4312-8957-ca49dc4a03f8\">\n",
              "    <div class=\"colab-df-container\">\n",
              "      <div>\n",
              "<style scoped>\n",
              "    .dataframe tbody tr th:only-of-type {\n",
              "        vertical-align: middle;\n",
              "    }\n",
              "\n",
              "    .dataframe tbody tr th {\n",
              "        vertical-align: top;\n",
              "    }\n",
              "\n",
              "    .dataframe thead th {\n",
              "        text-align: right;\n",
              "    }\n",
              "</style>\n",
              "<table border=\"1\" class=\"dataframe\">\n",
              "  <thead>\n",
              "    <tr style=\"text-align: right;\">\n",
              "      <th></th>\n",
              "      <th>new_filename</th>\n",
              "      <th>ImageId</th>\n",
              "      <th>has_pneumo</th>\n",
              "    </tr>\n",
              "  </thead>\n",
              "  <tbody>\n",
              "    <tr>\n",
              "      <th>2697</th>\n",
              "      <td>2697_train_0_.png</td>\n",
              "      <td>1.2.276.0.7230010.3.1.4.8323329.4598.151787518...</td>\n",
              "      <td>0</td>\n",
              "    </tr>\n",
              "    <tr>\n",
              "      <th>3181</th>\n",
              "      <td>3181_train_0_.png</td>\n",
              "      <td>1.2.276.0.7230010.3.1.4.8323329.11872.15178752...</td>\n",
              "      <td>0</td>\n",
              "    </tr>\n",
              "    <tr>\n",
              "      <th>9094</th>\n",
              "      <td>9094_train_0_.png</td>\n",
              "      <td>1.2.276.0.7230010.3.1.4.8323329.11154.15178752...</td>\n",
              "      <td>0</td>\n",
              "    </tr>\n",
              "    <tr>\n",
              "      <th>6640</th>\n",
              "      <td>6640_train_0_.png</td>\n",
              "      <td>1.2.276.0.7230010.3.1.4.8323329.1716.151787516...</td>\n",
              "      <td>0</td>\n",
              "    </tr>\n",
              "    <tr>\n",
              "      <th>4661</th>\n",
              "      <td>4661_train_0_.png</td>\n",
              "      <td>1.2.276.0.7230010.3.1.4.8323329.4920.151787518...</td>\n",
              "      <td>0</td>\n",
              "    </tr>\n",
              "  </tbody>\n",
              "</table>\n",
              "</div>\n",
              "      <button class=\"colab-df-convert\" onclick=\"convertToInteractive('df-88abed27-fe1e-4312-8957-ca49dc4a03f8')\"\n",
              "              title=\"Convert this dataframe to an interactive table.\"\n",
              "              style=\"display:none;\">\n",
              "        \n",
              "  <svg xmlns=\"http://www.w3.org/2000/svg\" height=\"24px\"viewBox=\"0 0 24 24\"\n",
              "       width=\"24px\">\n",
              "    <path d=\"M0 0h24v24H0V0z\" fill=\"none\"/>\n",
              "    <path d=\"M18.56 5.44l.94 2.06.94-2.06 2.06-.94-2.06-.94-.94-2.06-.94 2.06-2.06.94zm-11 1L8.5 8.5l.94-2.06 2.06-.94-2.06-.94L8.5 2.5l-.94 2.06-2.06.94zm10 10l.94 2.06.94-2.06 2.06-.94-2.06-.94-.94-2.06-.94 2.06-2.06.94z\"/><path d=\"M17.41 7.96l-1.37-1.37c-.4-.4-.92-.59-1.43-.59-.52 0-1.04.2-1.43.59L10.3 9.45l-7.72 7.72c-.78.78-.78 2.05 0 2.83L4 21.41c.39.39.9.59 1.41.59.51 0 1.02-.2 1.41-.59l7.78-7.78 2.81-2.81c.8-.78.8-2.07 0-2.86zM5.41 20L4 18.59l7.72-7.72 1.47 1.35L5.41 20z\"/>\n",
              "  </svg>\n",
              "      </button>\n",
              "      \n",
              "  <style>\n",
              "    .colab-df-container {\n",
              "      display:flex;\n",
              "      flex-wrap:wrap;\n",
              "      gap: 12px;\n",
              "    }\n",
              "\n",
              "    .colab-df-convert {\n",
              "      background-color: #E8F0FE;\n",
              "      border: none;\n",
              "      border-radius: 50%;\n",
              "      cursor: pointer;\n",
              "      display: none;\n",
              "      fill: #1967D2;\n",
              "      height: 32px;\n",
              "      padding: 0 0 0 0;\n",
              "      width: 32px;\n",
              "    }\n",
              "\n",
              "    .colab-df-convert:hover {\n",
              "      background-color: #E2EBFA;\n",
              "      box-shadow: 0px 1px 2px rgba(60, 64, 67, 0.3), 0px 1px 3px 1px rgba(60, 64, 67, 0.15);\n",
              "      fill: #174EA6;\n",
              "    }\n",
              "\n",
              "    [theme=dark] .colab-df-convert {\n",
              "      background-color: #3B4455;\n",
              "      fill: #D2E3FC;\n",
              "    }\n",
              "\n",
              "    [theme=dark] .colab-df-convert:hover {\n",
              "      background-color: #434B5C;\n",
              "      box-shadow: 0px 1px 3px 1px rgba(0, 0, 0, 0.15);\n",
              "      filter: drop-shadow(0px 1px 2px rgba(0, 0, 0, 0.3));\n",
              "      fill: #FFFFFF;\n",
              "    }\n",
              "  </style>\n",
              "\n",
              "      <script>\n",
              "        const buttonEl =\n",
              "          document.querySelector('#df-88abed27-fe1e-4312-8957-ca49dc4a03f8 button.colab-df-convert');\n",
              "        buttonEl.style.display =\n",
              "          google.colab.kernel.accessAllowed ? 'block' : 'none';\n",
              "\n",
              "        async function convertToInteractive(key) {\n",
              "          const element = document.querySelector('#df-88abed27-fe1e-4312-8957-ca49dc4a03f8');\n",
              "          const dataTable =\n",
              "            await google.colab.kernel.invokeFunction('convertToInteractive',\n",
              "                                                     [key], {});\n",
              "          if (!dataTable) return;\n",
              "\n",
              "          const docLinkHtml = 'Like what you see? Visit the ' +\n",
              "            '<a target=\"_blank\" href=https://colab.research.google.com/notebooks/data_table.ipynb>data table notebook</a>'\n",
              "            + ' to learn more about interactive tables.';\n",
              "          element.innerHTML = '';\n",
              "          dataTable['output_type'] = 'display_data';\n",
              "          await google.colab.output.renderOutput(dataTable, element);\n",
              "          const docLink = document.createElement('div');\n",
              "          docLink.innerHTML = docLinkHtml;\n",
              "          element.appendChild(docLink);\n",
              "        }\n",
              "      </script>\n",
              "    </div>\n",
              "  </div>\n",
              "  "
            ]
          },
          "metadata": {},
          "execution_count": 14
        }
      ],
      "source": [
        "df_majority_downsampled.head()"
      ]
    },
    {
      "cell_type": "code",
      "execution_count": null,
      "metadata": {
        "colab": {
          "base_uri": "https://localhost:8080/"
        },
        "id": "z5l92Vr15sf2",
        "outputId": "4313170e-58d0-4ab6-86e5-ff0dceb5f7bb"
      },
      "outputs": [
        {
          "output_type": "execute_result",
          "data": {
            "text/plain": [
              "new_filename    2379\n",
              "ImageId         2379\n",
              "has_pneumo      2379\n",
              "dtype: int64"
            ]
          },
          "metadata": {},
          "execution_count": 10
        }
      ],
      "source": [
        "df_minority.count()\n"
      ]
    },
    {
      "cell_type": "code",
      "execution_count": null,
      "metadata": {
        "colab": {
          "base_uri": "https://localhost:8080/",
          "height": 206
        },
        "id": "FOFkZBPi5vwD",
        "outputId": "3cfefe26-d0b4-41d8-c8d8-5f2033e90beb"
      },
      "outputs": [
        {
          "output_type": "execute_result",
          "data": {
            "text/plain": [
              "     new_filename                                            ImageId  \\\n",
              "2  2_train_1_.png  1.2.276.0.7230010.3.1.4.8323329.4904.151787518...   \n",
              "3  3_train_1_.png  1.2.276.0.7230010.3.1.4.8323329.32579.15178751...   \n",
              "4  4_train_1_.png  1.2.276.0.7230010.3.1.4.8323329.1314.151787516...   \n",
              "7  7_train_1_.png  1.2.276.0.7230010.3.1.4.8323329.4440.151787518...   \n",
              "8  8_train_1_.png  1.2.276.0.7230010.3.1.4.8323329.4982.151787518...   \n",
              "\n",
              "   has_pneumo  \n",
              "2           1  \n",
              "3           1  \n",
              "4           1  \n",
              "7           1  \n",
              "8           1  "
            ],
            "text/html": [
              "\n",
              "  <div id=\"df-4a9bcec6-9768-4e6d-9a48-1636148e5edf\">\n",
              "    <div class=\"colab-df-container\">\n",
              "      <div>\n",
              "<style scoped>\n",
              "    .dataframe tbody tr th:only-of-type {\n",
              "        vertical-align: middle;\n",
              "    }\n",
              "\n",
              "    .dataframe tbody tr th {\n",
              "        vertical-align: top;\n",
              "    }\n",
              "\n",
              "    .dataframe thead th {\n",
              "        text-align: right;\n",
              "    }\n",
              "</style>\n",
              "<table border=\"1\" class=\"dataframe\">\n",
              "  <thead>\n",
              "    <tr style=\"text-align: right;\">\n",
              "      <th></th>\n",
              "      <th>new_filename</th>\n",
              "      <th>ImageId</th>\n",
              "      <th>has_pneumo</th>\n",
              "    </tr>\n",
              "  </thead>\n",
              "  <tbody>\n",
              "    <tr>\n",
              "      <th>2</th>\n",
              "      <td>2_train_1_.png</td>\n",
              "      <td>1.2.276.0.7230010.3.1.4.8323329.4904.151787518...</td>\n",
              "      <td>1</td>\n",
              "    </tr>\n",
              "    <tr>\n",
              "      <th>3</th>\n",
              "      <td>3_train_1_.png</td>\n",
              "      <td>1.2.276.0.7230010.3.1.4.8323329.32579.15178751...</td>\n",
              "      <td>1</td>\n",
              "    </tr>\n",
              "    <tr>\n",
              "      <th>4</th>\n",
              "      <td>4_train_1_.png</td>\n",
              "      <td>1.2.276.0.7230010.3.1.4.8323329.1314.151787516...</td>\n",
              "      <td>1</td>\n",
              "    </tr>\n",
              "    <tr>\n",
              "      <th>7</th>\n",
              "      <td>7_train_1_.png</td>\n",
              "      <td>1.2.276.0.7230010.3.1.4.8323329.4440.151787518...</td>\n",
              "      <td>1</td>\n",
              "    </tr>\n",
              "    <tr>\n",
              "      <th>8</th>\n",
              "      <td>8_train_1_.png</td>\n",
              "      <td>1.2.276.0.7230010.3.1.4.8323329.4982.151787518...</td>\n",
              "      <td>1</td>\n",
              "    </tr>\n",
              "  </tbody>\n",
              "</table>\n",
              "</div>\n",
              "      <button class=\"colab-df-convert\" onclick=\"convertToInteractive('df-4a9bcec6-9768-4e6d-9a48-1636148e5edf')\"\n",
              "              title=\"Convert this dataframe to an interactive table.\"\n",
              "              style=\"display:none;\">\n",
              "        \n",
              "  <svg xmlns=\"http://www.w3.org/2000/svg\" height=\"24px\"viewBox=\"0 0 24 24\"\n",
              "       width=\"24px\">\n",
              "    <path d=\"M0 0h24v24H0V0z\" fill=\"none\"/>\n",
              "    <path d=\"M18.56 5.44l.94 2.06.94-2.06 2.06-.94-2.06-.94-.94-2.06-.94 2.06-2.06.94zm-11 1L8.5 8.5l.94-2.06 2.06-.94-2.06-.94L8.5 2.5l-.94 2.06-2.06.94zm10 10l.94 2.06.94-2.06 2.06-.94-2.06-.94-.94-2.06-.94 2.06-2.06.94z\"/><path d=\"M17.41 7.96l-1.37-1.37c-.4-.4-.92-.59-1.43-.59-.52 0-1.04.2-1.43.59L10.3 9.45l-7.72 7.72c-.78.78-.78 2.05 0 2.83L4 21.41c.39.39.9.59 1.41.59.51 0 1.02-.2 1.41-.59l7.78-7.78 2.81-2.81c.8-.78.8-2.07 0-2.86zM5.41 20L4 18.59l7.72-7.72 1.47 1.35L5.41 20z\"/>\n",
              "  </svg>\n",
              "      </button>\n",
              "      \n",
              "  <style>\n",
              "    .colab-df-container {\n",
              "      display:flex;\n",
              "      flex-wrap:wrap;\n",
              "      gap: 12px;\n",
              "    }\n",
              "\n",
              "    .colab-df-convert {\n",
              "      background-color: #E8F0FE;\n",
              "      border: none;\n",
              "      border-radius: 50%;\n",
              "      cursor: pointer;\n",
              "      display: none;\n",
              "      fill: #1967D2;\n",
              "      height: 32px;\n",
              "      padding: 0 0 0 0;\n",
              "      width: 32px;\n",
              "    }\n",
              "\n",
              "    .colab-df-convert:hover {\n",
              "      background-color: #E2EBFA;\n",
              "      box-shadow: 0px 1px 2px rgba(60, 64, 67, 0.3), 0px 1px 3px 1px rgba(60, 64, 67, 0.15);\n",
              "      fill: #174EA6;\n",
              "    }\n",
              "\n",
              "    [theme=dark] .colab-df-convert {\n",
              "      background-color: #3B4455;\n",
              "      fill: #D2E3FC;\n",
              "    }\n",
              "\n",
              "    [theme=dark] .colab-df-convert:hover {\n",
              "      background-color: #434B5C;\n",
              "      box-shadow: 0px 1px 3px 1px rgba(0, 0, 0, 0.15);\n",
              "      filter: drop-shadow(0px 1px 2px rgba(0, 0, 0, 0.3));\n",
              "      fill: #FFFFFF;\n",
              "    }\n",
              "  </style>\n",
              "\n",
              "      <script>\n",
              "        const buttonEl =\n",
              "          document.querySelector('#df-4a9bcec6-9768-4e6d-9a48-1636148e5edf button.colab-df-convert');\n",
              "        buttonEl.style.display =\n",
              "          google.colab.kernel.accessAllowed ? 'block' : 'none';\n",
              "\n",
              "        async function convertToInteractive(key) {\n",
              "          const element = document.querySelector('#df-4a9bcec6-9768-4e6d-9a48-1636148e5edf');\n",
              "          const dataTable =\n",
              "            await google.colab.kernel.invokeFunction('convertToInteractive',\n",
              "                                                     [key], {});\n",
              "          if (!dataTable) return;\n",
              "\n",
              "          const docLinkHtml = 'Like what you see? Visit the ' +\n",
              "            '<a target=\"_blank\" href=https://colab.research.google.com/notebooks/data_table.ipynb>data table notebook</a>'\n",
              "            + ' to learn more about interactive tables.';\n",
              "          element.innerHTML = '';\n",
              "          dataTable['output_type'] = 'display_data';\n",
              "          await google.colab.output.renderOutput(dataTable, element);\n",
              "          const docLink = document.createElement('div');\n",
              "          docLink.innerHTML = docLinkHtml;\n",
              "          element.appendChild(docLink);\n",
              "        }\n",
              "      </script>\n",
              "    </div>\n",
              "  </div>\n",
              "  "
            ]
          },
          "metadata": {},
          "execution_count": 15
        }
      ],
      "source": [
        "df_minority.head()"
      ]
    },
    {
      "cell_type": "code",
      "execution_count": null,
      "metadata": {
        "colab": {
          "base_uri": "https://localhost:8080/",
          "height": 424
        },
        "id": "F-MGLrx4tLc2",
        "outputId": "29524b66-7ab4-4b88-b6fc-23af54b4a46f"
      },
      "outputs": [
        {
          "data": {
            "text/html": [
              "\n",
              "  <div id=\"df-59b68cc2-6378-4422-a607-e9357e81eceb\">\n",
              "    <div class=\"colab-df-container\">\n",
              "      <div>\n",
              "<style scoped>\n",
              "    .dataframe tbody tr th:only-of-type {\n",
              "        vertical-align: middle;\n",
              "    }\n",
              "\n",
              "    .dataframe tbody tr th {\n",
              "        vertical-align: top;\n",
              "    }\n",
              "\n",
              "    .dataframe thead th {\n",
              "        text-align: right;\n",
              "    }\n",
              "</style>\n",
              "<table border=\"1\" class=\"dataframe\">\n",
              "  <thead>\n",
              "    <tr style=\"text-align: right;\">\n",
              "      <th></th>\n",
              "      <th>new_filename</th>\n",
              "      <th>ImageId</th>\n",
              "      <th>has_pneumo</th>\n",
              "    </tr>\n",
              "  </thead>\n",
              "  <tbody>\n",
              "    <tr>\n",
              "      <th>8776</th>\n",
              "      <td>8776_train_0_.png</td>\n",
              "      <td>1.2.276.0.7230010.3.1.4.8323329.2342.151787517...</td>\n",
              "      <td>0</td>\n",
              "    </tr>\n",
              "    <tr>\n",
              "      <th>7765</th>\n",
              "      <td>7765_train_0_.png</td>\n",
              "      <td>1.2.276.0.7230010.3.1.4.8323329.5141.151787518...</td>\n",
              "      <td>0</td>\n",
              "    </tr>\n",
              "    <tr>\n",
              "      <th>5615</th>\n",
              "      <td>5615_train_0_.png</td>\n",
              "      <td>1.2.276.0.7230010.3.1.4.8323329.10162.15178752...</td>\n",
              "      <td>0</td>\n",
              "    </tr>\n",
              "    <tr>\n",
              "      <th>10254</th>\n",
              "      <td>10254_train_0_.png</td>\n",
              "      <td>1.2.276.0.7230010.3.1.4.8323329.14223.15178752...</td>\n",
              "      <td>0</td>\n",
              "    </tr>\n",
              "    <tr>\n",
              "      <th>6247</th>\n",
              "      <td>6247_train_0_.png</td>\n",
              "      <td>1.2.276.0.7230010.3.1.4.8323329.14120.15178752...</td>\n",
              "      <td>0</td>\n",
              "    </tr>\n",
              "    <tr>\n",
              "      <th>...</th>\n",
              "      <td>...</td>\n",
              "      <td>...</td>\n",
              "      <td>...</td>\n",
              "    </tr>\n",
              "    <tr>\n",
              "      <th>10665</th>\n",
              "      <td>10665_train_1_.png</td>\n",
              "      <td>1.2.276.0.7230010.3.1.4.8323329.3335.151787517...</td>\n",
              "      <td>1</td>\n",
              "    </tr>\n",
              "    <tr>\n",
              "      <th>10666</th>\n",
              "      <td>10666_train_1_.png</td>\n",
              "      <td>1.2.276.0.7230010.3.1.4.8323329.1805.151787516...</td>\n",
              "      <td>1</td>\n",
              "    </tr>\n",
              "    <tr>\n",
              "      <th>10667</th>\n",
              "      <td>10667_train_1_.png</td>\n",
              "      <td>1.2.276.0.7230010.3.1.4.8323329.32260.15178751...</td>\n",
              "      <td>1</td>\n",
              "    </tr>\n",
              "    <tr>\n",
              "      <th>10670</th>\n",
              "      <td>10670_train_1_.png</td>\n",
              "      <td>1.2.276.0.7230010.3.1.4.8323329.32459.15178751...</td>\n",
              "      <td>1</td>\n",
              "    </tr>\n",
              "    <tr>\n",
              "      <th>10671</th>\n",
              "      <td>10671_train_1_.png</td>\n",
              "      <td>1.2.276.0.7230010.3.1.4.8323329.4461.151787518...</td>\n",
              "      <td>1</td>\n",
              "    </tr>\n",
              "  </tbody>\n",
              "</table>\n",
              "<p>4758 rows × 3 columns</p>\n",
              "</div>\n",
              "      <button class=\"colab-df-convert\" onclick=\"convertToInteractive('df-59b68cc2-6378-4422-a607-e9357e81eceb')\"\n",
              "              title=\"Convert this dataframe to an interactive table.\"\n",
              "              style=\"display:none;\">\n",
              "        \n",
              "  <svg xmlns=\"http://www.w3.org/2000/svg\" height=\"24px\"viewBox=\"0 0 24 24\"\n",
              "       width=\"24px\">\n",
              "    <path d=\"M0 0h24v24H0V0z\" fill=\"none\"/>\n",
              "    <path d=\"M18.56 5.44l.94 2.06.94-2.06 2.06-.94-2.06-.94-.94-2.06-.94 2.06-2.06.94zm-11 1L8.5 8.5l.94-2.06 2.06-.94-2.06-.94L8.5 2.5l-.94 2.06-2.06.94zm10 10l.94 2.06.94-2.06 2.06-.94-2.06-.94-.94-2.06-.94 2.06-2.06.94z\"/><path d=\"M17.41 7.96l-1.37-1.37c-.4-.4-.92-.59-1.43-.59-.52 0-1.04.2-1.43.59L10.3 9.45l-7.72 7.72c-.78.78-.78 2.05 0 2.83L4 21.41c.39.39.9.59 1.41.59.51 0 1.02-.2 1.41-.59l7.78-7.78 2.81-2.81c.8-.78.8-2.07 0-2.86zM5.41 20L4 18.59l7.72-7.72 1.47 1.35L5.41 20z\"/>\n",
              "  </svg>\n",
              "      </button>\n",
              "      \n",
              "  <style>\n",
              "    .colab-df-container {\n",
              "      display:flex;\n",
              "      flex-wrap:wrap;\n",
              "      gap: 12px;\n",
              "    }\n",
              "\n",
              "    .colab-df-convert {\n",
              "      background-color: #E8F0FE;\n",
              "      border: none;\n",
              "      border-radius: 50%;\n",
              "      cursor: pointer;\n",
              "      display: none;\n",
              "      fill: #1967D2;\n",
              "      height: 32px;\n",
              "      padding: 0 0 0 0;\n",
              "      width: 32px;\n",
              "    }\n",
              "\n",
              "    .colab-df-convert:hover {\n",
              "      background-color: #E2EBFA;\n",
              "      box-shadow: 0px 1px 2px rgba(60, 64, 67, 0.3), 0px 1px 3px 1px rgba(60, 64, 67, 0.15);\n",
              "      fill: #174EA6;\n",
              "    }\n",
              "\n",
              "    [theme=dark] .colab-df-convert {\n",
              "      background-color: #3B4455;\n",
              "      fill: #D2E3FC;\n",
              "    }\n",
              "\n",
              "    [theme=dark] .colab-df-convert:hover {\n",
              "      background-color: #434B5C;\n",
              "      box-shadow: 0px 1px 3px 1px rgba(0, 0, 0, 0.15);\n",
              "      filter: drop-shadow(0px 1px 2px rgba(0, 0, 0, 0.3));\n",
              "      fill: #FFFFFF;\n",
              "    }\n",
              "  </style>\n",
              "\n",
              "      <script>\n",
              "        const buttonEl =\n",
              "          document.querySelector('#df-59b68cc2-6378-4422-a607-e9357e81eceb button.colab-df-convert');\n",
              "        buttonEl.style.display =\n",
              "          google.colab.kernel.accessAllowed ? 'block' : 'none';\n",
              "\n",
              "        async function convertToInteractive(key) {\n",
              "          const element = document.querySelector('#df-59b68cc2-6378-4422-a607-e9357e81eceb');\n",
              "          const dataTable =\n",
              "            await google.colab.kernel.invokeFunction('convertToInteractive',\n",
              "                                                     [key], {});\n",
              "          if (!dataTable) return;\n",
              "\n",
              "          const docLinkHtml = 'Like what you see? Visit the ' +\n",
              "            '<a target=\"_blank\" href=https://colab.research.google.com/notebooks/data_table.ipynb>data table notebook</a>'\n",
              "            + ' to learn more about interactive tables.';\n",
              "          element.innerHTML = '';\n",
              "          dataTable['output_type'] = 'display_data';\n",
              "          await google.colab.output.renderOutput(dataTable, element);\n",
              "          const docLink = document.createElement('div');\n",
              "          docLink.innerHTML = docLinkHtml;\n",
              "          element.appendChild(docLink);\n",
              "        }\n",
              "      </script>\n",
              "    </div>\n",
              "  </div>\n",
              "  "
            ],
            "text/plain": [
              "             new_filename                                            ImageId  \\\n",
              "8776    8776_train_0_.png  1.2.276.0.7230010.3.1.4.8323329.2342.151787517...   \n",
              "7765    7765_train_0_.png  1.2.276.0.7230010.3.1.4.8323329.5141.151787518...   \n",
              "5615    5615_train_0_.png  1.2.276.0.7230010.3.1.4.8323329.10162.15178752...   \n",
              "10254  10254_train_0_.png  1.2.276.0.7230010.3.1.4.8323329.14223.15178752...   \n",
              "6247    6247_train_0_.png  1.2.276.0.7230010.3.1.4.8323329.14120.15178752...   \n",
              "...                   ...                                                ...   \n",
              "10665  10665_train_1_.png  1.2.276.0.7230010.3.1.4.8323329.3335.151787517...   \n",
              "10666  10666_train_1_.png  1.2.276.0.7230010.3.1.4.8323329.1805.151787516...   \n",
              "10667  10667_train_1_.png  1.2.276.0.7230010.3.1.4.8323329.32260.15178751...   \n",
              "10670  10670_train_1_.png  1.2.276.0.7230010.3.1.4.8323329.32459.15178751...   \n",
              "10671  10671_train_1_.png  1.2.276.0.7230010.3.1.4.8323329.4461.151787518...   \n",
              "\n",
              "       has_pneumo  \n",
              "8776            0  \n",
              "7765            0  \n",
              "5615            0  \n",
              "10254           0  \n",
              "6247            0  \n",
              "...           ...  \n",
              "10665           1  \n",
              "10666           1  \n",
              "10667           1  \n",
              "10670           1  \n",
              "10671           1  \n",
              "\n",
              "[4758 rows x 3 columns]"
            ]
          },
          "execution_count": 17,
          "metadata": {},
          "output_type": "execute_result"
        }
      ],
      "source": [
        "import pandas as pd\n",
        "downsampled_df = pd.concat([df_majority_downsampled,df_minority])\n",
        "downsampled_df"
      ]
    },
    {
      "cell_type": "code",
      "execution_count": null,
      "metadata": {
        "colab": {
          "base_uri": "https://localhost:8080/"
        },
        "id": "Xq61fswdvQap",
        "outputId": "1cd4c96c-d022-41c6-bd14-ff7f98009d73"
      },
      "outputs": [
        {
          "data": {
            "text/plain": [
              "new_filename    4758\n",
              "ImageId         4758\n",
              "has_pneumo      4758\n",
              "dtype: int64"
            ]
          },
          "execution_count": 25,
          "metadata": {},
          "output_type": "execute_result"
        }
      ],
      "source": [
        "downsampled_df.count()"
      ]
    },
    {
      "cell_type": "code",
      "execution_count": null,
      "metadata": {
        "id": "LCU6edtJUPV3"
      },
      "outputs": [],
      "source": [
        "downsampled_df.to_csv('/content/gdrive/MyDrive/Pneumothorax/downsampled_train.csv', index=False)"
      ]
    },
    {
      "cell_type": "code",
      "execution_count": null,
      "metadata": {
        "colab": {
          "base_uri": "https://localhost:8080/"
        },
        "id": "dzrS5tRHQugV",
        "outputId": "b2e3df88-ebd0-4a7b-df27-fa189ee50da0"
      },
      "outputs": [
        {
          "data": {
            "text/plain": [
              "new_filename                                    2645_train_1_.png\n",
              "ImageId         1.2.276.0.7230010.3.1.4.8323329.11489.15178752...\n",
              "has_pneumo                                                      1\n",
              "Name: 2645, dtype: object"
            ]
          },
          "execution_count": 23,
          "metadata": {},
          "output_type": "execute_result"
        }
      ],
      "source": [
        "idx =4000\n",
        "\n",
        "row_d=downsampled_df.iloc[idx]\n",
        "row_d\n"
      ]
    },
    {
      "cell_type": "code",
      "execution_count": null,
      "metadata": {
        "id": "mm7ILC4KqAMX"
      },
      "outputs": [],
      "source": [
        "image_d = row_d.new_filename\n",
        "image_d_path = f'/content/gdrive/MyDrive/Pneumothorax/png_images/{image_d}'\n",
        "\n",
        "mask_d_path = f'/content/gdrive/MyDrive/Pneumothorax/png_masks/{image_d}'\n",
        "\n",
        "image_d = cv2.imread(image_d_path)\n",
        "\n",
        "image_d = cv2.cvtColor(image_d, cv2.COLOR_BGR2RGB)\n",
        "\n",
        "mask_d = cv2.imread(mask_d_path, cv2.IMREAD_GRAYSCALE) /255.0"
      ]
    },
    {
      "cell_type": "code",
      "execution_count": null,
      "metadata": {
        "colab": {
          "base_uri": "https://localhost:8080/"
        },
        "id": "WHHKc6OUwUPg",
        "outputId": "153f5564-4f2c-4cf7-ead2-311b899fdca7"
      },
      "outputs": [
        {
          "data": {
            "text/plain": [
              "('/content/gdrive/MyDrive/Pneumothorax/png_images/2645_train_1_.png',\n",
              " '/content/gdrive/MyDrive/Pneumothorax/png_masks/2645_train_1_.png')"
            ]
          },
          "execution_count": 25,
          "metadata": {},
          "output_type": "execute_result"
        }
      ],
      "source": [
        "image_d_path, mask_d_path"
      ]
    },
    {
      "cell_type": "code",
      "execution_count": null,
      "metadata": {
        "colab": {
          "base_uri": "https://localhost:8080/"
        },
        "id": "tI0xJAip_tCo",
        "outputId": "dc69ea2a-5f04-40db-d435-82c6f629a130"
      },
      "outputs": [
        {
          "data": {
            "text/plain": [
              "(1024, 1024, 3)"
            ]
          },
          "execution_count": 26,
          "metadata": {},
          "output_type": "execute_result"
        }
      ],
      "source": [
        "image_d.shape\n"
      ]
    },
    {
      "cell_type": "code",
      "execution_count": null,
      "metadata": {
        "colab": {
          "base_uri": "https://localhost:8080/",
          "height": 335
        },
        "id": "P9XK--eJqFoh",
        "outputId": "3ab96505-4304-4df3-b0d6-089f45fb1bb4"
      },
      "outputs": [
        {
          "data": {
            "text/plain": [
              "<matplotlib.image.AxesImage at 0x7fae7e7d5ed0>"
            ]
          },
          "execution_count": 27,
          "metadata": {},
          "output_type": "execute_result"
        },
        {
          "data": {
            "image/png": "[encoded data removed]",
            "text/plain": [
              "<Figure size 720x360 with 2 Axes>"
            ]
          },
          "metadata": {},
          "output_type": "display_data"
        }
      ],
      "source": [
        "f, (ax1, ax2) = plt.subplots(1, 2, figsize=(10,5))\n",
        "        \n",
        "ax1.set_title('IMAGE')\n",
        "ax1.imshow(image_d)\n",
        "\n",
        "ax2.set_title('MASK')\n",
        "ax2.imshow(mask_d,cmap = 'gray')"
      ]
    },
    {
      "cell_type": "code",
      "execution_count": null,
      "metadata": {
        "colab": {
          "base_uri": "https://localhost:8080/"
        },
        "id": "yPbq_s0gBIMU",
        "outputId": "59099283-61e2-41ab-e115-af0a5d598f55"
      },
      "outputs": [
        {
          "data": {
            "text/plain": [
              "(1024, 1024)"
            ]
          },
          "execution_count": 28,
          "metadata": {},
          "output_type": "execute_result"
        }
      ],
      "source": [
        "mask_d.shape\n",
        "# we will do np.expand_dims to add the extra 1 at the end of the shape"
      ]
    },
    {
      "cell_type": "code",
      "source": [
        "labels = pd.read_csv(r'/content/gdrive/MyDrive/Pneumothorax/downsampled_train.csv')\n",
        "\n",
        "train_dir =r'/content/gdrive/MyDrive/Pneumothorax/png_images'\n",
        "DR = r\"/content/gdrive/MyDrive/Pneumothorax/downsampled_train_images\"\n",
        "if not os.path.exists(DR):\n",
        "    os.mkdir(DR)\n",
        "\n",
        "for filename, image_id,class_name in labels.values:\n",
        "    # Create subdirectory with `class_name`\n",
        "    if not os.path.exists(DR + str(class_name)):\n",
        "        os.mkdir(DR + str(class_name))\n",
        "    src_path = train_dir + '/'+ filename \n",
        "    dst_path = DR + str(class_name) + '/' + filename \n",
        "    try:\n",
        "        shutil.copy(src_path, dst_path)\n",
        "        print(\"sucessful\")\n",
        "    except IOError as e:\n",
        "        print('Unable to copy file {} to {}'\n",
        "              .format(src_path, dst_path))\n",
        "    except:\n",
        "        print('When try copy file {} to {}, unexpected error: {}'\n",
        "              .format(src_path, dst_path, sys.exc_info()))"
      ],
      "metadata": {
        "id": "nzgYBGEN4G1e"
      },
      "execution_count": null,
      "outputs": []
    }
  ]
}